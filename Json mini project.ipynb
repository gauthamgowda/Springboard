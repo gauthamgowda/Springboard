{
 "cells": [
  {
   "cell_type": "markdown",
   "metadata": {},
   "source": [
    "# JSON examples and exercise\n",
    "****\n",
    "+ get familiar with packages for dealing with JSON\n",
    "+ study examples with JSON strings and files \n",
    "+ work on exercise to be completed and submitted \n",
    "****\n",
    "+ reference: http://pandas.pydata.org/pandas-docs/stable/io.html#io-json-reader\n",
    "+ data source: http://jsonstudio.com/resources/\n",
    "****"
   ]
  },
  {
   "cell_type": "markdown",
   "metadata": {},
   "source": [
    "Import Pandas, numpy and json packages"
   ]
  },
  {
   "cell_type": "code",
   "execution_count": 3,
   "metadata": {},
   "outputs": [],
   "source": [
    "import pandas as pd\n",
    "import numpy as np"
   ]
  },
  {
   "cell_type": "code",
   "execution_count": 4,
   "metadata": {},
   "outputs": [],
   "source": [
    "import json\n",
    "from pandas.io.json import json_normalize"
   ]
  },
  {
   "cell_type": "markdown",
   "metadata": {},
   "source": [
    "****\n",
    "## JSON exercise\n",
    "\n",
    "Using data in file 'data/world_bank_projects.json' and the techniques demonstrated above,\n",
    "1. Find the 10 countries with most projects\n",
    "2. Find the top 10 major project themes (using column 'mjtheme_namecode')\n",
    "3. In 2. above you will notice that some entries have only the code and the name is missing. Create a dataframe with the missing names filled in."
   ]
  },
  {
   "cell_type": "code",
   "execution_count": 5,
   "metadata": {},
   "outputs": [],
   "source": [
    "# load json as string\n",
    "data = json.load((open('data/world_bank_projects.json')))\n",
    "#data"
   ]
  },
  {
   "cell_type": "code",
   "execution_count": 6,
   "metadata": {},
   "outputs": [],
   "source": [
    "#Load json as a DataFrame\n",
    "json_df = pd.read_json('data/world_bank_projects.json')\n",
    "#json_df"
   ]
  },
  {
   "cell_type": "markdown",
   "metadata": {},
   "source": [
    "Q1: Find the 10 countries with most projects\n",
    "A: Use 'countryname' column and find value_counts with method chaining and slice the top 10 rows"
   ]
  },
  {
   "cell_type": "code",
   "execution_count": 7,
   "metadata": {},
   "outputs": [
    {
     "data": {
      "text/plain": [
       "People's Republic of China         19\n",
       "Republic of Indonesia              19\n",
       "Socialist Republic of Vietnam      17\n",
       "Republic of India                  16\n",
       "Republic of Yemen                  13\n",
       "People's Republic of Bangladesh    12\n",
       "Kingdom of Morocco                 12\n",
       "Nepal                              12\n",
       "Republic of Mozambique             11\n",
       "Africa                             11\n",
       "Name: countryname, dtype: int64"
      ]
     },
     "execution_count": 7,
     "metadata": {},
     "output_type": "execute_result"
    }
   ],
   "source": [
    "#Top 10 countries with most projects\n",
    "df =json_df['countryname'].value_counts()[:10]\n",
    "df"
   ]
  },
  {
   "cell_type": "code",
   "execution_count": 9,
   "metadata": {},
   "outputs": [],
   "source": [
    "#check contents of 'mjtheme_namecode' column\n",
    "df = json_df['mjtheme_namecode']\n",
    "#df"
   ]
  },
  {
   "cell_type": "markdown",
   "metadata": {},
   "source": [
    "Q2. Find the top 10 major project themes (using column 'mjtheme_namecode')\n",
    "A: Use json_normalize to select 'mjtheme_namecode' key. Then, do value_counts on the 'name' value of the 'mjtheme_namecode' key"
   ]
  },
  {
   "cell_type": "code",
   "execution_count": 10,
   "metadata": {},
   "outputs": [
    {
     "data": {
      "text/plain": [
       "Environment and natural resources management    223\n",
       "Rural development                               202\n",
       "Human development                               197\n",
       "Public sector governance                        184\n",
       "Social protection and risk management           158\n",
       "Financial and private sector development        130\n",
       "                                                122\n",
       "Social dev/gender/inclusion                     119\n",
       "Trade and integration                            72\n",
       "Urban development                                47\n",
       "Name: name, dtype: int64"
      ]
     },
     "execution_count": 10,
     "metadata": {},
     "output_type": "execute_result"
    }
   ],
   "source": [
    "#Top 10 major project themes\n",
    "j = json_normalize(data, 'mjtheme_namecode')\n",
    "j =j.name.value_counts()[:10]\n",
    "j"
   ]
  },
  {
   "cell_type": "markdown",
   "metadata": {},
   "source": [
    "Q3: In 2. above you will notice that some entries have only the code and the name is missing. Create a dataframe with the missing names filled in.\n",
    "A: Missing values have been filled with NaNs"
   ]
  },
  {
   "cell_type": "code",
   "execution_count": 11,
   "metadata": {},
   "outputs": [
    {
     "data": {
      "text/plain": [
       "0                                  Human development\n",
       "1                                                NaN\n",
       "2                                Economic management\n",
       "3              Social protection and risk management\n",
       "4                              Trade and integration\n",
       "5                           Public sector governance\n",
       "6       Environment and natural resources management\n",
       "7              Social protection and risk management\n",
       "8                        Social dev/gender/inclusion\n",
       "9                        Social dev/gender/inclusion\n",
       "10                             Trade and integration\n",
       "11          Financial and private sector development\n",
       "12             Social protection and risk management\n",
       "13                                               NaN\n",
       "14                          Public sector governance\n",
       "15          Financial and private sector development\n",
       "16      Environment and natural resources management\n",
       "17                                               NaN\n",
       "18                                 Rural development\n",
       "19                                               NaN\n",
       "20                          Public sector governance\n",
       "21                          Public sector governance\n",
       "22                          Public sector governance\n",
       "23                                 Rural development\n",
       "24                                               NaN\n",
       "25                                 Rural development\n",
       "26             Social protection and risk management\n",
       "27             Social protection and risk management\n",
       "28      Environment and natural resources management\n",
       "29                                               NaN\n",
       "                            ...                     \n",
       "1469                               Human development\n",
       "1470                               Urban development\n",
       "1471           Social protection and risk management\n",
       "1472           Social protection and risk management\n",
       "1473                               Urban development\n",
       "1474                        Public sector governance\n",
       "1475                        Public sector governance\n",
       "1476                               Rural development\n",
       "1477                                             NaN\n",
       "1478                               Human development\n",
       "1479                     Social dev/gender/inclusion\n",
       "1480    Environment and natural resources management\n",
       "1481                                             NaN\n",
       "1482           Social protection and risk management\n",
       "1483                                             NaN\n",
       "1484        Financial and private sector development\n",
       "1485                     Social dev/gender/inclusion\n",
       "1486                               Human development\n",
       "1487                           Trade and integration\n",
       "1488                        Public sector governance\n",
       "1489                               Human development\n",
       "1490                               Rural development\n",
       "1491                                             NaN\n",
       "1492                               Rural development\n",
       "1493                               Rural development\n",
       "1494                               Rural development\n",
       "1495                               Urban development\n",
       "1496                               Human development\n",
       "1497                           Trade and integration\n",
       "1498        Financial and private sector development\n",
       "Name: name, Length: 1499, dtype: object"
      ]
     },
     "execution_count": 11,
     "metadata": {},
     "output_type": "execute_result"
    }
   ],
   "source": [
    "# fill missing rows with NaN\n",
    "j = json_normalize(data, 'mjtheme_namecode')\n",
    "j =j.name.replace('',np.NaN)\n",
    "j\n",
    "\n"
   ]
  },
  {
   "cell_type": "code",
   "execution_count": 58,
   "metadata": {
    "collapsed": true
   },
   "outputs": [
    {
     "data": {
      "text/plain": [
       "Environment and natural resources management    223\n",
       "Rural development                               202\n",
       "Human development                               197\n",
       "Public sector governance                        184\n",
       "Social protection and risk management           158\n",
       "Financial and private sector development        130\n",
       "                                                122\n",
       "Social dev/gender/inclusion                     119\n",
       "Trade and integration                            72\n",
       "Urban development                                47\n",
       "Name: name, dtype: int64"
      ]
     },
     "execution_count": 58,
     "metadata": {},
     "output_type": "execute_result"
    }
   ],
   "source": []
  },
  {
   "cell_type": "code",
   "execution_count": null,
   "metadata": {},
   "outputs": [],
   "source": []
  }
 ],
 "metadata": {
  "kernelspec": {
   "display_name": "Python 3",
   "language": "python",
   "name": "python3"
  },
  "language_info": {
   "codemirror_mode": {
    "name": "ipython",
    "version": 3
   },
   "file_extension": ".py",
   "mimetype": "text/x-python",
   "name": "python",
   "nbconvert_exporter": "python",
   "pygments_lexer": "ipython3",
   "version": "3.7.1"
  }
 },
 "nbformat": 4,
 "nbformat_minor": 1
}
